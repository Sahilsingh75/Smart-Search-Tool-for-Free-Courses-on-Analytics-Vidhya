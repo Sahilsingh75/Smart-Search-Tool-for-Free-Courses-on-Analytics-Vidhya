{
 "cells": [
  {
   "cell_type": "code",
   "execution_count": 1,
   "id": "34ee4c36-c543-4e66-a4c3-1bb84cfd3eda",
   "metadata": {},
   "outputs": [
    {
     "name": "stdout",
     "output_type": "stream",
     "text": [
      "Data cleaned and saved.\n"
     ]
    }
   ],
   "source": [
    "import pandas as pd\n",
    "\n",
    "# Load the CSV file\n",
    "file_path = 'data/courses_detailed.csv' \n",
    "data = pd.read_csv(file_path)\n",
    "\n",
    "# Clean and preprocess data\n",
    "data['lesson_count'] = data['lesson_count'].fillna('Unknown')\n",
    "data['instructor'] = data['instructor'].fillna('Unknown')\n",
    "data['rating'] = data['rating'].fillna('0/5')\n",
    "data['difficulty_level'] = data['difficulty_level'].fillna('Unknown')\n",
    "\n",
    "# Normalize text data\n",
    "data['course_name'] = data['course_name'].str.lower()\n",
    "data['description'] = data['description'].str.lower()\n",
    "\n",
    "# Combine text fields for embedding\n",
    "data['text'] = data['course_name'] + \" \" + data['description']\n",
    "\n",
    "# Save cleaned data\n",
    "data.to_csv('cleaned_courses.csv', index=False)\n",
    "print(\"Data cleaned and saved.\")\n"
   ]
  },
  {
   "cell_type": "code",
   "execution_count": 3,
   "id": "8bec914e-cca2-4328-8377-917874755921",
   "metadata": {},
   "outputs": [
    {
     "name": "stdout",
     "output_type": "stream",
     "text": [
      "WARNING:tensorflow:From C:\\Users\\ravis\\anaconda3\\Lib\\site-packages\\tf_keras\\src\\losses.py:2976: The name tf.losses.sparse_softmax_cross_entropy is deprecated. Please use tf.compat.v1.losses.sparse_softmax_cross_entropy instead.\n",
      "\n",
      "Generated embeddings with shape: torch.Size([78, 384])\n"
     ]
    }
   ],
   "source": [
    "from sentence_transformers import SentenceTransformer\n",
    "\n",
    "# Load a pre-trained SentenceTransformer model\n",
    "model = SentenceTransformer('all-MiniLM-L6-v2')\n",
    "\n",
    "# Generate embeddings for the combined text field\n",
    "embeddings = model.encode(data['text'].tolist(), convert_to_tensor=True)\n",
    "\n",
    "print(f\"Generated embeddings with shape: {embeddings.shape}\")\n"
   ]
  },
  {
   "cell_type": "code",
   "execution_count": 5,
   "id": "4bcfe726-5bbb-4066-b864-d38350c52a10",
   "metadata": {},
   "outputs": [
    {
     "name": "stdout",
     "output_type": "stream",
     "text": [
      "FAISS index built with 78 items.\n"
     ]
    }
   ],
   "source": [
    "import faiss\n",
    "\n",
    "# Initialize FAISS index\n",
    "d = embeddings.shape[1]  # Dimension of embeddings\n",
    "faiss_index = faiss.IndexFlatL2(d)  # Use L2 similarity\n",
    "faiss_index.add(embeddings.cpu().numpy())  # Add embeddings to FAISS index\n",
    "\n",
    "print(f\"FAISS index built with {faiss_index.ntotal} items.\")\n"
   ]
  },
  {
   "cell_type": "code",
   "execution_count": 7,
   "id": "693a478a-b95b-4ea6-8696-a5087ae45535",
   "metadata": {},
   "outputs": [],
   "source": [
    "def search_courses(query, data, top_k=5):\n",
    "    # Generate an embedding for the query\n",
    "    query_embedding = model.encode([query], convert_to_tensor=True).cpu().numpy()\n",
    "    \n",
    "    # Search using FAISS\n",
    "    distances, indices = faiss_index.search(query_embedding, top_k)\n",
    "    \n",
    "    # Retrieve course details\n",
    "    results = data.iloc[indices[0]]\n",
    "    results['distance'] = distances[0]\n",
    "    \n",
    "    return results[['course_name', 'course_url', 'description', 'rating', 'difficulty_level', 'distance']].to_dict('records')\n"
   ]
  },
  {
   "cell_type": "code",
   "execution_count": 9,
   "id": "d35e5779-2e8f-4f35-a65b-ec56a038dae2",
   "metadata": {},
   "outputs": [
    {
     "name": "stdout",
     "output_type": "stream",
     "text": [
      "* Running on local URL:  http://127.0.0.1:7861\n",
      "\n",
      "To create a public link, set `share=True` in `launch()`.\n"
     ]
    },
    {
     "data": {
      "text/html": [
       "<div><iframe src=\"http://127.0.0.1:7861/\" width=\"100%\" height=\"500\" allow=\"autoplay; camera; microphone; clipboard-read; clipboard-write;\" frameborder=\"0\" allowfullscreen></iframe></div>"
      ],
      "text/plain": [
       "<IPython.core.display.HTML object>"
      ]
     },
     "metadata": {},
     "output_type": "display_data"
    },
    {
     "data": {
      "text/plain": []
     },
     "execution_count": 9,
     "metadata": {},
     "output_type": "execute_result"
    }
   ],
   "source": [
    "import gradio as gr\n",
    "\n",
    "def gradio_search_interface(query, top_k=5, min_rating=0):\n",
    "    # Get results\n",
    "    results = search_courses(query, data, top_k)\n",
    "    \n",
    "    # Apply rating filter\n",
    "    filtered_results = [\n",
    "        result for result in results if float(result['rating'].split('/')[0]) >= min_rating\n",
    "    ]\n",
    "    \n",
    "    # Format results for display\n",
    "    formatted_results = \"\\n\\n\".join([\n",
    "        f\"**Course Name:** {result['course_name'].title()}\\n\"\n",
    "        f\"**Description:** {result['description']}\\n\"\n",
    "        f\"**Rating:** {result['rating']}\\n\"\n",
    "        f\"**Difficulty Level:** {result['difficulty_level']}\\n\"\n",
    "        f\"**Distance:** {result['distance']:.4f}\\n\"\n",
    "        f\"[Course Link]({result['course_url']})\" for result in filtered_results\n",
    "    ])\n",
    "    \n",
    "    return formatted_results or \"No courses found matching your criteria.\"\n",
    "\n",
    "# Define Gradio interface\n",
    "iface = gr.Interface(\n",
    "    fn=gradio_search_interface, \n",
    "    inputs=[\n",
    "        gr.Textbox(lines=2, placeholder=\"Enter your search query here...\"), \n",
    "        gr.Slider(1, 10, step=1, label=\"Number of Results\"), \n",
    "        gr.Slider(0.0, 5.0, step=0.5, label=\"Minimum Rating\")\n",
    "    ], \n",
    "    outputs=\"markdown\",\n",
    "    title=\"Smart Course Search Tool\",\n",
    "    description=\"Search for courses by entering keywords. Filter results by number of results and minimum rating.\"\n",
    ")\n",
    "\n",
    "# Launch Gradio interface\n",
    "iface.launch()\n"
   ]
  }
 ],
 "metadata": {
  "kernelspec": {
   "display_name": "Python 3 (ipykernel)",
   "language": "python",
   "name": "python3"
  },
  "language_info": {
   "codemirror_mode": {
    "name": "ipython",
    "version": 3
   },
   "file_extension": ".py",
   "mimetype": "text/x-python",
   "name": "python",
   "nbconvert_exporter": "python",
   "pygments_lexer": "ipython3",
   "version": "3.12.4"
  }
 },
 "nbformat": 4,
 "nbformat_minor": 5
}
